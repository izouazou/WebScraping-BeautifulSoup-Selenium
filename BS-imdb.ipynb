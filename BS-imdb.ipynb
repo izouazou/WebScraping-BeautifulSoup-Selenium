{
 "cells": [
  {
   "cell_type": "code",
   "execution_count": 1,
   "id": "de645a20-21a7-4145-9b30-582f80939537",
   "metadata": {},
   "outputs": [],
   "source": [
    "from bs4 import BeautifulSoup\n",
    "import requests\n",
    "\n",
    "headers = {\n",
    "    'User-Agent': 'Mozilla/5.0 (Windows NT 10.0; Win64; x64) AppleWebKit/537.36 (KHTML, like Gecko) Chrome/91.0.4472.124 Safari/537.36'\n",
    "}\n",
    "\n",
    "url = 'https://www.imdb.com/chart/top'\n",
    "response = requests.get(url, headers=headers)\n",
    "\n",
    "soup = BeautifulSoup(response.text, 'html.parser')"
   ]
  },
  {
   "cell_type": "code",
   "execution_count": 2,
   "id": "95c63659-3447-48a3-99b0-b561383ca06b",
   "metadata": {},
   "outputs": [
    {
     "name": "stdout",
     "output_type": "stream",
     "text": [
      "                   Movie Title Release Year Duration    Rating IMDb Rating  \\\n",
      "0  1. The Shawshank Redemption         1994   2h 22m         R  9.3 (2.8M)   \n",
      "1             2. The Godfather         1972   2h 55m         R    9.2 (2M)   \n",
      "2           3. The Dark Knight         2008   2h 32m     PG-13  9.0 (2.8M)   \n",
      "3     4. The Godfather Part II         1974   3h 22m         R  9.0 (1.3M)   \n",
      "4              5. 12 Angry Men         1957   1h 36m  Approved  9.0 (847K)   \n",
      "\n",
      "  IMDb Votes  \n",
      "0     (2.8M)  \n",
      "1       (2M)  \n",
      "2     (2.8M)  \n",
      "3     (1.3M)  \n",
      "4     (847K)  \n"
     ]
    }
   ],
   "source": [
    "import pandas as pd\n",
    "\n",
    "# Find the list of movie containers\n",
    "movie_containers = soup.find_all('li', class_='ipc-metadata-list-summary-item')\n",
    "\n",
    "# Create an empty list to store individual DataFrames\n",
    "dfs = []\n",
    "\n",
    "# Loop through each container to extract and append data to the list\n",
    "for movie_container in movie_containers:\n",
    "    # Extract data for each movie\n",
    "    title_element = movie_container.select_one('.ipc-title__text')\n",
    "    movie_title = title_element.text if title_element else 'N/A'\n",
    "\n",
    "    release_year_element = movie_container.select_one('.cli-title-metadata-item:nth-of-type(1)')\n",
    "    release_year = release_year_element.text if release_year_element else 'N/A'\n",
    "\n",
    "    duration_element = movie_container.select_one('.cli-title-metadata-item:nth-of-type(2)')\n",
    "    duration = duration_element.text if duration_element else 'N/A'\n",
    "\n",
    "    rating_element = movie_container.select_one('.cli-title-metadata-item:nth-of-type(3)')\n",
    "    rating = rating_element.text if rating_element else 'N/A'\n",
    "\n",
    "    imdb_rating_element = movie_container.find('span', {'class': 'ipc-rating-star--imdb'})\n",
    "    imdb_rating = imdb_rating_element.text.strip() if imdb_rating_element else 'N/A'\n",
    "\n",
    "    imdb_votes_element = movie_container.select_one('.ipc-rating-star--voteCount')\n",
    "    imdb_votes = imdb_votes_element.text if imdb_votes_element else 'N/A'\n",
    "\n",
    "    # Create a DataFrame for each movie\n",
    "    movie_df = pd.DataFrame({\n",
    "        'Movie Title': [movie_title],\n",
    "        'Release Year': [release_year],\n",
    "        'Duration': [duration],\n",
    "        'Rating': [rating],\n",
    "        'IMDb Rating': [imdb_rating],\n",
    "        'IMDb Votes': [imdb_votes]\n",
    "    })\n",
    "\n",
    "    # Append the DataFrame to the list\n",
    "    dfs.append(movie_df)\n",
    "\n",
    "# Concatenate all DataFrames in the list into a single DataFrame\n",
    "df = pd.concat(dfs, ignore_index=True)\n",
    "\n",
    "# Display the DataFrame\n",
    "print(df.head())\n",
    "\n",
    "# Save the DataFrame to a CSV file\n",
    "df.to_csv('data/imdb_data.csv', index=False)"
   ]
  },
  {
   "cell_type": "code",
   "execution_count": null,
   "id": "1b62c255-f35c-4d66-8598-f349b77bf4f9",
   "metadata": {},
   "outputs": [],
   "source": []
  }
 ],
 "metadata": {
  "kernelspec": {
   "display_name": "Python 3 (ipykernel)",
   "language": "python",
   "name": "python3"
  },
  "language_info": {
   "codemirror_mode": {
    "name": "ipython",
    "version": 3
   },
   "file_extension": ".py",
   "mimetype": "text/x-python",
   "name": "python",
   "nbconvert_exporter": "python",
   "pygments_lexer": "ipython3",
   "version": "3.11.6"
  }
 },
 "nbformat": 4,
 "nbformat_minor": 5
}
