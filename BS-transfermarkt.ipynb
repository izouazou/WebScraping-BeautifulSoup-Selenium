{
 "cells": [
  {
   "cell_type": "code",
   "execution_count": 13,
   "id": "4fb69d81-b44f-48b7-ab03-d8f425aac933",
   "metadata": {},
   "outputs": [],
   "source": [
    "from bs4 import BeautifulSoup\n",
    "import requests"
   ]
  },
  {
   "cell_type": "code",
   "execution_count": 14,
   "id": "8c48d16a-49f4-4612-afa3-0be6fd04d033",
   "metadata": {},
   "outputs": [],
   "source": [
    "headers = {\n",
    "    'User-Agent': 'Mozilla/5.0 (Windows NT 10.0; Win64; x64) AppleWebKit/537.36 (KHTML, like Gecko) Chrome/91.0.4472.124 Safari/537.36'\n",
    "}\n",
    "\n",
    "url = 'https://www.transfermarkt.com/erling-haaland/profil/spieler/418560'\n",
    "response = requests.get(url, headers=headers)\n",
    "\n",
    "soup = BeautifulSoup(response.text, 'html.parser')"
   ]
  },
  {
   "cell_type": "code",
   "execution_count": 9,
   "id": "9b523a0d-8b0a-45ce-8012-55dbecf45ae7",
   "metadata": {},
   "outputs": [
    {
     "name": "stdout",
     "output_type": "stream",
     "text": [
      "Name: Erling Braut Håland\n",
      "Date of Birth: Jul 21, 2000 (23)\n",
      "Place of Birth: Leeds\n",
      "Height: 1,95 m\n",
      "Citizenship: England\n",
      "Position: Attack - Centre-Forward\n",
      "Foot: left\n",
      "Player Agent: Jul 21, 2000 (23)\n",
      "Current Club: Manchester City\n",
      "Joined: Jul 1, 2022\n",
      "Contract Expires: Jun 30, 2027\n",
      "Outfitter: Nike\n",
      "Twitter: http://twitter.com/ErlingHaaland\n",
      "Facebook: http://www.facebook.com/profile.php?id=100052762394674\n",
      "Instagram: http://instagram.com/erling.haaland/\n"
     ]
    }
   ],
   "source": [
    "# Extracted data\n",
    "name = soup.select_one('.info-table__content--bold').text.strip()\n",
    "date_of_birth = soup.select_one('.info-table__content--bold a').text.strip()\n",
    "place_of_birth = soup.select_one('.info-table__content--bold span').text.strip()\n",
    "height = soup.select_one('.info-table__content--bold:contains(\"m\")').text.strip()\n",
    "citizenship = soup.select_one('.info-table__content--bold img')['title'].strip()\n",
    "position = soup.select_one('.info-table__content--bold:contains(\"Attack\")').text.strip()\n",
    "\n",
    "\n",
    "# Find the element containing \"Foot\" and get the next sibling\n",
    "foot_element = soup.find('span', string='Foot:')\n",
    "foot = foot_element.find_next_sibling('span', class_='info-table__content--bold').text.strip() if foot_element else None\n",
    "\n",
    "player_agent = soup.select_one('.info-table__content--bold a').text.strip()\n",
    "current_club = soup.select_one('.info-table__content--bold a[title=\"Manchester City\"]').text.strip()\n",
    "joined_date = soup.select_one('.info-table__content--bold:contains(\"Jul 1, 2022\")').text.strip()\n",
    "contract_expires = soup.select_one('.info-table__content--bold:contains(\"Jun 30, 2027\")').text.strip()\n",
    "outfitter = soup.select_one('.info-table__content--bold:contains(\"Nike\")').text.strip()\n",
    "\n",
    "# Social Media\n",
    "twitter_link = soup.select_one('[title=\"Twitter\"]')['href']\n",
    "facebook_link = soup.select_one('[title=\"Facebook\"]')['href']\n",
    "instagram_link = soup.select_one('[title=\"Instagram\"]')['href']\n",
    "\n",
    "# Display extracted data\n",
    "print(f\"Name: {name}\")\n",
    "print(f\"Date of Birth: {date_of_birth}\")\n",
    "print(f\"Place of Birth: {place_of_birth}\")\n",
    "print(f\"Height: {height}\")\n",
    "print(f\"Citizenship: {citizenship}\")\n",
    "print(f\"Position: {position}\")\n",
    "print(f\"Foot: {foot}\")\n",
    "print(f\"Player Agent: {player_agent}\")\n",
    "print(f\"Current Club: {current_club}\")\n",
    "print(f\"Joined: {joined_date}\")\n",
    "print(f\"Contract Expires: {contract_expires}\")\n",
    "print(f\"Outfitter: {outfitter}\")\n",
    "print(f\"Twitter: {twitter_link}\")\n",
    "print(f\"Facebook: {facebook_link}\")\n",
    "print(f\"Instagram: {instagram_link}\")"
   ]
  },
  {
   "cell_type": "code",
   "execution_count": null,
   "id": "386d40b2-687e-4178-8610-f413b4d7b61a",
   "metadata": {},
   "outputs": [],
   "source": []
  }
 ],
 "metadata": {
  "kernelspec": {
   "display_name": "Python 3 (ipykernel)",
   "language": "python",
   "name": "python3"
  },
  "language_info": {
   "codemirror_mode": {
    "name": "ipython",
    "version": 3
   },
   "file_extension": ".py",
   "mimetype": "text/x-python",
   "name": "python",
   "nbconvert_exporter": "python",
   "pygments_lexer": "ipython3",
   "version": "3.11.6"
  }
 },
 "nbformat": 4,
 "nbformat_minor": 5
}
