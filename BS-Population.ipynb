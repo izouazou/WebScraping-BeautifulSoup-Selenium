{
 "cells": [
  {
   "cell_type": "code",
   "execution_count": 8,
   "id": "b3d7907a-2666-48b4-85ef-f4a9dc8cd925",
   "metadata": {},
   "outputs": [],
   "source": [
    "from bs4 import BeautifulSoup\n",
    "import requests\n",
    "import pandas as pd"
   ]
  },
  {
   "cell_type": "code",
   "execution_count": 9,
   "id": "6622f521-661f-4899-a890-5899e886c405",
   "metadata": {},
   "outputs": [],
   "source": [
    "url = 'https://en.wikipedia.org/wiki/List_of_countries_and_dependencies_by_population'\n",
    "page = requests.get(url)\n",
    "soup = BeautifulSoup(page.text, 'html')"
   ]
  },
  {
   "cell_type": "code",
   "execution_count": 10,
   "id": "69ced8cb-d7fa-4709-9984-6fd780c9aa60",
   "metadata": {},
   "outputs": [],
   "source": [
    "table = soup.find_all('table')[0]\n",
    "# table"
   ]
  },
  {
   "cell_type": "code",
   "execution_count": 11,
   "id": "c4b3ffe8-3a87-4735-8acf-80dd5fe10903",
   "metadata": {},
   "outputs": [],
   "source": [
    "world_titles = table.find_all('th')\n",
    "# world_titles"
   ]
  },
  {
   "cell_type": "code",
   "execution_count": 12,
   "id": "26130705-b83a-498a-b1a6-9359a4102cf4",
   "metadata": {},
   "outputs": [
    {
     "name": "stdout",
     "output_type": "stream",
     "text": [
      "['Country / Dependency', 'Population', '% ofworld', 'Date', 'Source (official or fromthe United Nations)', '']\n"
     ]
    }
   ],
   "source": [
    "world_table_titles = [title.text.strip() for title in world_titles]\n",
    "selected_headers = world_table_titles[1:7]  # Extracting the desired headers\n",
    "print(selected_headers)"
   ]
  },
  {
   "cell_type": "code",
   "execution_count": 13,
   "id": "98f86d1a-693e-43a5-a694-32bfd27ba6ae",
   "metadata": {},
   "outputs": [],
   "source": [
    "column_data = table.find_all('tr')"
   ]
  },
  {
   "cell_type": "code",
   "execution_count": 14,
   "id": "fd406a2e-560a-40b5-850c-fb4268f9d3a7",
   "metadata": {},
   "outputs": [],
   "source": [
    "data = []\n",
    "for row in column_data[1:]:\n",
    "    row_data = row.find_all('td')\n",
    "    individual_row_data = [data.text.strip() for data in row_data]\n",
    "\n",
    "    data.append(individual_row_data)\n",
    "    df = pd.DataFrame(data, columns=selected_headers)"
   ]
  },
  {
   "cell_type": "code",
   "execution_count": 15,
   "id": "27507200-8471-43f8-b215-e4b2bd43e4fc",
   "metadata": {},
   "outputs": [
    {
     "data": {
      "text/html": [
       "<div>\n",
       "<style scoped>\n",
       "    .dataframe tbody tr th:only-of-type {\n",
       "        vertical-align: middle;\n",
       "    }\n",
       "\n",
       "    .dataframe tbody tr th {\n",
       "        vertical-align: top;\n",
       "    }\n",
       "\n",
       "    .dataframe thead th {\n",
       "        text-align: right;\n",
       "    }\n",
       "</style>\n",
       "<table border=\"1\" class=\"dataframe\">\n",
       "  <thead>\n",
       "    <tr style=\"text-align: right;\">\n",
       "      <th></th>\n",
       "      <th>Country / Dependency</th>\n",
       "      <th>Population</th>\n",
       "      <th>% ofworld</th>\n",
       "      <th>Date</th>\n",
       "      <th>Source (official or fromthe United Nations)</th>\n",
       "      <th></th>\n",
       "    </tr>\n",
       "  </thead>\n",
       "  <tbody>\n",
       "    <tr>\n",
       "      <th>0</th>\n",
       "      <td>World</td>\n",
       "      <td>8,081,034,000</td>\n",
       "      <td>100%</td>\n",
       "      <td>2 Jan 2024</td>\n",
       "      <td>UN projection[3]</td>\n",
       "      <td></td>\n",
       "    </tr>\n",
       "    <tr>\n",
       "      <th>1</th>\n",
       "      <td>China</td>\n",
       "      <td>1,411,750,000</td>\n",
       "      <td>17.5%</td>\n",
       "      <td>31 Dec 2022</td>\n",
       "      <td>Official estimate[4]</td>\n",
       "      <td>[b]</td>\n",
       "    </tr>\n",
       "    <tr>\n",
       "      <th>2</th>\n",
       "      <td>India</td>\n",
       "      <td>1,392,329,000</td>\n",
       "      <td>17.2%</td>\n",
       "      <td>1 Mar 2023</td>\n",
       "      <td>Official projection[5]</td>\n",
       "      <td>[c]</td>\n",
       "    </tr>\n",
       "    <tr>\n",
       "      <th>3</th>\n",
       "      <td>United States</td>\n",
       "      <td>334,914,895</td>\n",
       "      <td>4.1%</td>\n",
       "      <td>1 Jul 2023</td>\n",
       "      <td>Official estimate[7]</td>\n",
       "      <td>[d]</td>\n",
       "    </tr>\n",
       "    <tr>\n",
       "      <th>4</th>\n",
       "      <td>Indonesia</td>\n",
       "      <td>279,118,866</td>\n",
       "      <td>3.5%</td>\n",
       "      <td>1 Jul 2023</td>\n",
       "      <td>National annual projection[8]</td>\n",
       "      <td></td>\n",
       "    </tr>\n",
       "  </tbody>\n",
       "</table>\n",
       "</div>"
      ],
      "text/plain": [
       "  Country / Dependency     Population % ofworld         Date  \\\n",
       "0                World  8,081,034,000      100%   2 Jan 2024   \n",
       "1                China  1,411,750,000     17.5%  31 Dec 2022   \n",
       "2                India  1,392,329,000     17.2%   1 Mar 2023   \n",
       "3        United States    334,914,895      4.1%   1 Jul 2023   \n",
       "4            Indonesia    279,118,866      3.5%   1 Jul 2023   \n",
       "\n",
       "  Source (official or fromthe United Nations)       \n",
       "0                            UN projection[3]       \n",
       "1                        Official estimate[4]  [b]  \n",
       "2                      Official projection[5]  [c]  \n",
       "3                        Official estimate[7]  [d]  \n",
       "4               National annual projection[8]       "
      ]
     },
     "execution_count": 15,
     "metadata": {},
     "output_type": "execute_result"
    }
   ],
   "source": [
    "df.head()"
   ]
  },
  {
   "cell_type": "code",
   "execution_count": 16,
   "id": "dc546f54-0e8a-4a47-8434-aee6d3ee1a1c",
   "metadata": {},
   "outputs": [],
   "source": [
    "# Save DataFrame to a CSV file\n",
    "df.to_csv('data/population_data.csv', index=False)"
   ]
  },
  {
   "cell_type": "code",
   "execution_count": null,
   "id": "25e93223-c27e-4070-9440-c9780a16f470",
   "metadata": {},
   "outputs": [],
   "source": []
  }
 ],
 "metadata": {
  "kernelspec": {
   "display_name": "Python 3 (ipykernel)",
   "language": "python",
   "name": "python3"
  },
  "language_info": {
   "codemirror_mode": {
    "name": "ipython",
    "version": 3
   },
   "file_extension": ".py",
   "mimetype": "text/x-python",
   "name": "python",
   "nbconvert_exporter": "python",
   "pygments_lexer": "ipython3",
   "version": "3.11.6"
  }
 },
 "nbformat": 4,
 "nbformat_minor": 5
}
